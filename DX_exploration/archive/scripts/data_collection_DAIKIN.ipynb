{
 "cells": [
  {
   "cell_type": "code",
   "execution_count": null,
   "id": "47a16b59",
   "metadata": {},
   "outputs": [],
   "source": [
    "######################### DAIKIN #############################\n",
    "########################## Notes #############################\n",
    "# The 10 equipments' data don't include 'Bypass Factor' at \n",
    "# each row, but include discharge air dry bulb temp.\n",
    "# Issue to be soloved: The formula requires the apparatus \n",
    "# dew point temperature. Use \"bypass_adp.ipynb\" to calculate."
   ]
  },
  {
   "cell_type": "code",
   "execution_count": 1,
   "id": "5e86f4b6",
   "metadata": {},
   "outputs": [],
   "source": [
    "# !pip3 install metpy\n",
    "# !pip3 install pathlib # instal if needed\n",
    "\n",
    "# not work when connect to PNNL VPN"
   ]
  },
  {
   "cell_type": "code",
   "execution_count": 2,
   "id": "ebb23de5-7820-4765-9b7e-450eadffbd92",
   "metadata": {
    "execution": {
     "iopub.execute_input": "2023-08-02T05:19:25.921482Z",
     "iopub.status.busy": "2023-08-02T05:19:25.921168Z",
     "iopub.status.idle": "2023-08-02T05:19:26.176161Z",
     "shell.execute_reply": "2023-08-02T05:19:26.175142Z",
     "shell.execute_reply.started": "2023-08-02T05:19:25.921460Z"
    },
    "tags": []
   },
   "outputs": [
    {
     "name": "stderr",
     "output_type": "stream",
     "text": [
      "C:\\Users\\zhan682\\AppData\\Local\\anaconda3\\Lib\\site-packages\\paramiko\\transport.py:219: CryptographyDeprecationWarning: Blowfish has been deprecated\n",
      "  \"class\": algorithms.Blowfish,\n"
     ]
    }
   ],
   "source": [
    "import pandas as pd\n",
    "import numpy as np\n",
    "import metpy.calc as mcalc\n",
    "from metpy.units import units\n",
    "from pathlib import Path\n",
    "\n",
    "def loadData(name,nHead,nRows):\n",
    "    # Load the data from a page in the excel file\n",
    "    df = pd.read_excel(str(name), sheet_name='Table 1', header=int(nHead), \n",
    "                       usecols=\"C:AC\", skiprows=None, nrows=int(nRows), engine=\"openpyxl\")\n",
    "    # buffer dataframe\n",
    "    column_names = [\"OADB\",\"IDB\",\"IWB\",\"MBH\",\"S2T\",\"kW\",\"airflow\"]\n",
    "    dx = pd.DataFrame(columns=column_names)\n",
    "    return df, dx"
   ]
  },
  {
   "cell_type": "code",
   "execution_count": 3,
   "id": "e5be0205-54ed-4f3a-bd54-1a037b784310",
   "metadata": {
    "execution": {
     "iopub.execute_input": "2023-08-02T05:27:56.856295Z",
     "iopub.status.busy": "2023-08-02T05:27:56.855944Z",
     "iopub.status.idle": "2023-08-02T05:27:56.859895Z",
     "shell.execute_reply": "2023-08-02T05:27:56.859026Z",
     "shell.execute_reply.started": "2023-08-02T05:27:56.856272Z"
    },
    "tags": []
   },
   "outputs": [],
   "source": [
    "def processData1(df,dx):\n",
    "    ## MBH, S2T, kW\n",
    "    rows_to_select = [0,1,3] # index of rows to select\n",
    "    names_to_select = ['MBH','S2T','kW']\n",
    "    \n",
    "    for i in range(len(rows_to_select)):\n",
    "        df_temp = df[rows_to_select[i]::7] # internals\n",
    "        list_2d = []\n",
    "        for col in df_temp.columns[3:]:\n",
    "            list_2d.append(df_temp[col].to_list())\n",
    "        list_1d = []\n",
    "        for sublist in list_2d:\n",
    "            for item in sublist:\n",
    "                list_1d.append(item)   \n",
    "        dx[names_to_select[i]] = list_1d\n",
    "\n",
    "    ## Define the 4-element array to repeat\n",
    "    # IDB, airflow, iwb\n",
    "    idb_unique = np.unique(df.iloc[:,0].values)\n",
    "    airflow_unique = np.unique(df.iloc[:,1].values)\n",
    "    idb_array = np.repeat(idb_unique, len(airflow_unique))\n",
    "    airflow_array = np.tile(airflow_unique, len(idb_unique))\n",
    "    iwb_unique = df.columns[3:7]\n",
    "    iwb_array = np.repeat(iwb_unique, len(airflow_unique)*len(idb_unique))\n",
    "    # OADB\n",
    "    oat_unique = np.array([65,75,85,95,105,115])\n",
    "    oat_array = np.repeat(oat_unique, 24)\n",
    "\n",
    "    ## Calculate how many times the array has to be repeated and create the repeated array\n",
    "    idb_repeats = len(dx) // len(idb_array) + (len(dx) % len(idb_array) > 0)\n",
    "    idb_repeated_array = np.tile(idb_array, idb_repeats)\n",
    "    airflow_repeated_array = np.tile(airflow_array, idb_repeats)\n",
    "    iwb_repeats = len(dx) // len(iwb_array) + (len(dx) % len(iwb_array) > 0)\n",
    "    iwb_repeated_array = np.tile(iwb_array, iwb_repeats)\n",
    "    oat_repeated_array = np.tile(oat_array, 1)\n",
    "\n",
    "    ## Slice the repeated array to match the DataFrame's length and assign it to a column\n",
    "    dx['IDB'] = idb_repeated_array[:len(dx)]\n",
    "    dx['airflow'] = airflow_repeated_array[:len(dx)]\n",
    "    dx['IWB'] = iwb_repeated_array[:len(dx)]\n",
    "    dx['OADB'] = oat_repeated_array[:len(dx)]\n",
    "    ## replace \"-\" with NA\n",
    "    dx.replace('-', np.nan, inplace=True)\n",
    "\n",
    "    # Sensible MBH\n",
    "    dx['Sensible MBH'] = dx['MBH']*dx['S2T']\n",
    "\n",
    "    # The relative_humidity_wet_psychrometric function requires temperature and wet bulb temperature in Kelvin,\n",
    "    # And pressure in Pascals, we assume standard pressure at sea level: 101325 Pa\n",
    "    pressure = 101325 * units.pascal\n",
    "    # Convert Celsius to Kelvin and compute relative humidity\n",
    "    dx['RH'] = dx.apply(lambda row: mcalc.relative_humidity_wet_psychrometric(pressure,row['IDB'] * units.degF, row['IWB'] * units.degF).to('percent').magnitude, axis=1)\n",
    "    return dx"
   ]
  },
  {
   "cell_type": "code",
   "execution_count": 4,
   "id": "5fa0a903",
   "metadata": {},
   "outputs": [],
   "source": [
    "def processData2(df,dx):\n",
    "    ## MBH, S2T, kW\n",
    "    rows_to_select = [0,1,5] # index of rows to select\n",
    "    names_to_select = ['Capacity','S/T','TotalPower']\n",
    "    \n",
    "    for i in range(len(rows_to_select)):\n",
    "        df_temp = df[rows_to_select[i]::6] # internals\n",
    "        list_2d = []\n",
    "        for col in df_temp.columns[3:]:\n",
    "            list_2d.append(df_temp[col].to_list())\n",
    "        list_1d = []\n",
    "        for sublist in list_2d:\n",
    "            for item in sublist:\n",
    "                list_1d.append(item)   \n",
    "        dx[names_to_select[i]] = list_1d\n",
    "\n",
    "    ## Define the 4-element array to repeat\n",
    "    # IDB, airflow, iwb\n",
    "    idb_unique = np.unique(df.iloc[:,0].values)\n",
    "    airflow_unique = np.unique(df.iloc[:,1].values)\n",
    "    idb_array = np.repeat(idb_unique, len(airflow_unique))\n",
    "    airflow_array = np.tile(airflow_unique, len(idb_unique))\n",
    "    iwb_unique = df.columns[3:7]\n",
    "    iwb_array = np.repeat(iwb_unique, len(airflow_unique)*len(idb_unique))\n",
    "    # OADB\n",
    "    oat_unique = np.array([65,75,85,95,105,115])\n",
    "    oat_array = np.repeat(oat_unique, 24)\n",
    "\n",
    "    ## Calculate how many times the array has to be repeated and create the repeated array\n",
    "    idb_repeats = len(dx) // len(idb_array) + (len(dx) % len(idb_array) > 0)\n",
    "    idb_repeated_array = np.tile(idb_array, idb_repeats)\n",
    "    airflow_repeated_array = np.tile(airflow_array, idb_repeats)\n",
    "    iwb_repeats = len(dx) // len(iwb_array) + (len(dx) % len(iwb_array) > 0)\n",
    "    iwb_repeated_array = np.tile(iwb_array, iwb_repeats)\n",
    "    oat_repeated_array = np.tile(oat_array, 1)\n",
    "\n",
    "    ## Slice the repeated array to match the DataFrame's length and assign it to a column\n",
    "    dx['IDB'] = idb_repeated_array[:len(dx)]\n",
    "    dx['airflow'] = airflow_repeated_array[:len(dx)]\n",
    "    dx['IWB'] = iwb_repeated_array[:len(dx)]\n",
    "    dx['OADB'] = oat_repeated_array[:len(dx)]\n",
    "    ## replace \"-\" with NA\n",
    "    dx.replace('-', np.nan, inplace=True)\n",
    "\n",
    "    # Sensible MBH\n",
    "    dx['Sensible MBH'] = dx['MBH']*dx['S2T']\n",
    "\n",
    "    # The relative_humidity_wet_psychrometric function requires temperature and wet bulb temperature in Kelvin,\n",
    "    # And pressure in Pascals, we assume standard pressure at sea level: 101325 Pa\n",
    "    pressure = 101325 * units.pascal\n",
    "    # Convert Celsius to Kelvin and compute relative humidity\n",
    "    dx['RH'] = dx.apply(lambda row: mcalc.relative_humidity_wet_psychrometric(pressure,row['IDB'] * units.degF, row['IWB'] * units.degF).to('percent').magnitude, axis=1)\n",
    "    return dx"
   ]
  },
  {
   "cell_type": "code",
   "execution_count": 5,
   "id": "863f4081-79f4-4b3e-a181-7600ddf2f978",
   "metadata": {
    "execution": {
     "iopub.execute_input": "2023-08-02T05:20:34.110616Z",
     "iopub.status.busy": "2023-08-02T05:20:34.110324Z",
     "iopub.status.idle": "2023-08-02T05:20:34.115545Z",
     "shell.execute_reply": "2023-08-02T05:20:34.114819Z",
     "shell.execute_reply.started": "2023-08-02T05:20:34.110593Z"
    },
    "tags": []
   },
   "outputs": [],
   "source": [
    "# ss-drc7\n",
    "headList = [4,54,102,152,200,250,298,348]\n",
    "column_names = [\"OADB\",\"IDB\",\"IWB\",\"MBH\",\"S2T\",\"kW\",\"airflow\"]\n",
    "buffer = pd.DataFrame(columns=column_names)\n",
    "for head in headList:\n",
    "    df,dx = loadData('./excel/ss-drc7.xlsx',head,42)\n",
    "    new = processData1(df,dx)\n",
    "    buffer = pd.concat([buffer,new])\n",
    "    \n",
    "filepath = Path('./output/ss-drc7.csv')\n",
    "filepath.parent.mkdir(parents=True, exist_ok=True)  \n",
    "buffer.to_csv(filepath)"
   ]
  },
  {
   "cell_type": "code",
   "execution_count": 6,
   "id": "374ab7d0",
   "metadata": {},
   "outputs": [],
   "source": [
    "# ss-dfc15\n",
    "headList = [4,46,90,132,176,218]\n",
    "column_names = [\"OADB\",\"IDB\",\"IWB\",\"MBH\",\"S2T\",\"kW\",\"airflow\"]\n",
    "buffer = pd.DataFrame(columns=column_names)\n",
    "for head in headList:\n",
    "    df,dx = loadData('./excel/ss-dfc15.xlsx',head,36)\n",
    "    new = processData2(df,dx)\n",
    "    buffer = pd.concat([buffer,new])\n",
    "    \n",
    "filepath = Path('./output/ss-dfc15.csv')\n",
    "filepath.parent.mkdir(parents=True, exist_ok=True)  \n",
    "buffer.to_csv(filepath)"
   ]
  },
  {
   "cell_type": "code",
   "execution_count": 7,
   "id": "ad7525a3",
   "metadata": {},
   "outputs": [],
   "source": [
    "# ss-dfc5-d\n",
    "headList = [4,46,90,132,176,218,262,304]\n",
    "column_names = [\"OADB\",\"IDB\",\"IWB\",\"MBH\",\"S2T\",\"kW\",\"airflow\"]\n",
    "buffer = pd.DataFrame(columns=column_names)\n",
    "for head in headList:\n",
    "    df,dx = loadData('./excel/ss-dfc5-d.xlsx',head,36)\n",
    "    new = processData2(df,dx)\n",
    "    buffer = pd.concat([buffer,new])\n",
    "    \n",
    "filepath = Path('./output/ss-dfc5-d.csv')\n",
    "filepath.parent.mkdir(parents=True, exist_ok=True)  \n",
    "buffer.to_csv(filepath)"
   ]
  },
  {
   "cell_type": "code",
   "execution_count": null,
   "id": "f871b65e",
   "metadata": {},
   "outputs": [],
   "source": []
  }
 ],
 "metadata": {
  "kernelspec": {
   "display_name": "Python 3 (ipykernel)",
   "language": "python",
   "name": "python3"
  },
  "language_info": {
   "codemirror_mode": {
    "name": "ipython",
    "version": 3
   },
   "file_extension": ".py",
   "mimetype": "text/x-python",
   "name": "python",
   "nbconvert_exporter": "python",
   "pygments_lexer": "ipython3",
   "version": "3.9.13"
  }
 },
 "nbformat": 4,
 "nbformat_minor": 5
}
