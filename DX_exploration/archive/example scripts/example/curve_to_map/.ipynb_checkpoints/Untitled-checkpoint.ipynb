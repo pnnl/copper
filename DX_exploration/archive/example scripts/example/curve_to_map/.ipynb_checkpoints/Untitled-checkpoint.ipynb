{
 "cells": [
  {
   "cell_type": "code",
   "execution_count": 32,
   "id": "352a385e",
   "metadata": {},
   "outputs": [],
   "source": [
    "import pandas as pd\n",
    "import numpy as np"
   ]
  },
  {
   "cell_type": "code",
   "execution_count": 33,
   "id": "baede1d0",
   "metadata": {},
   "outputs": [],
   "source": [
    "def convert_F_to_C(F):\n",
    "        return (F-32) * 5/9"
   ]
  },
  {
   "cell_type": "code",
   "execution_count": 37,
   "id": "4196121a",
   "metadata": {},
   "outputs": [
    {
     "data": {
      "text/plain": [
       "1"
      ]
     },
     "execution_count": 37,
     "metadata": {},
     "output_type": "execute_result"
    }
   ],
   "source": [
    "xlsx_file = \"./data/DX_Equipment_Data_Collection_D.xlsx\"\n",
    "df = pd.read_excel(io=xlsx_file, sheet_name=\"Table 1\", header=6, usecols=\"B:L\", engine=\"openpyxl\")\n",
    "df[\"indoor_coil_entering_dry_bulb_temperature\"] = convert_F_to_C(df[\"indoor_coil_entering_dry_bulb_temperature\"])\n",
    "df[\"outdoor_coil_entering_dry_bulb_temperature\"] = convert_F_to_C(df[\"outdoor_coil_entering_dry_bulb_temperature\"])\n",
    "df[\"indoor_coil_entering_wet_bulb_temperature\"] = convert_F_to_C(df[\"indoor_coil_entering_wet_bulb_temperature\"])\n",
    "\n",
    "comp_sequences = 1\n",
    "rated_flow_rate = 2100\n",
    "Te_db = 26.7 # 80 F\n",
    "Te_wb = 19.4 # 67 F\n",
    "\n",
    "T_db = df[\"indoor_coil_entering_dry_bulb_temperature\"].values\n",
    "T_wb = df[\"indoor_coil_entering_wet_bulb_temperature\"].values\n",
    "dist = (T_db - Te_db)**2 + (T_wb - Te_wb)**2\n",
    "min_idx = np.argmin(dist)\n",
    "# min_idx\n",
    "# df_rated = df.iloc[min_idx]\n",
    "# rated_capacity = df_rated[\"gross_total_capacity\"]\n",
    "\n",
    "# df[\"cap_f_t\"] = df[\"gross_total_capacity\"]/rated_capacity\n",
    "# df[\"ff\"] = df[\"indoor_coil_air_mass_flow_rate\"]/rated_flow_rate\n",
    "\n",
    "# df_const_T = df[\n",
    "#                 (np.abs(df[\"indoor_coil_entering_dry_bulb_temperature\"] - Te_db) < 1.0) &\n",
    "#                 (np.abs(df[\"indoor_coil_entering_wet_bulb_temperature\"] - Te_wb) < 1.0)\n",
    "#             ]\n",
    "\n",
    "# df_rated_flow = df[(np.abs(df[\"indoor_coil_air_mass_flow_rate\"] - rated_flow_rate) < 100)]\n",
    "# df_rated_flow\n",
    "\n",
    "stage = len(np.unique(df[\"compressor_sequence_number\"].values))\n",
    "stage"
   ]
  },
  {
   "cell_type": "code",
   "execution_count": 41,
   "id": "acfd81f7",
   "metadata": {},
   "outputs": [
    {
     "name": "stdout",
     "output_type": "stream",
     "text": [
      "Extracted Information: D_Subcool\n"
     ]
    }
   ],
   "source": [
    "xlsx_file = \"./data/DX_Equipment_Data_Collection_D_Subcool.xlsx\"\n",
    "\n",
    "# Find the index of \"./data/\" and \".xlsx\"\n",
    "start_index = xlsx_file.find(\"./data/DX_Equipment_Data_Collection_\") + len(\"./data/DX_Equipment_Data_Collection_\")\n",
    "end_index = xlsx_file.find(\".xlsx\")\n",
    "\n",
    "# Extract the information between \"./data/\" and \".xlsx\"\n",
    "extracted_info = xlsx_file[start_index:end_index]\n",
    "\n",
    "print(\"Extracted Information:\", extracted_info)"
   ]
  },
  {
   "cell_type": "code",
   "execution_count": null,
   "id": "af8e4d49",
   "metadata": {},
   "outputs": [],
   "source": []
  }
 ],
 "metadata": {
  "kernelspec": {
   "display_name": "Python 3 (ipykernel)",
   "language": "python",
   "name": "python3"
  },
  "language_info": {
   "codemirror_mode": {
    "name": "ipython",
    "version": 3
   },
   "file_extension": ".py",
   "mimetype": "text/x-python",
   "name": "python",
   "nbconvert_exporter": "python",
   "pygments_lexer": "ipython3",
   "version": "3.11.3"
  }
 },
 "nbformat": 4,
 "nbformat_minor": 5
}
