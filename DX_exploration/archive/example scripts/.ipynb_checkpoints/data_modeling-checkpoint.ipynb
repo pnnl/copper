{
 "cells": [
  {
   "cell_type": "code",
   "execution_count": null,
   "id": "c2a9443b",
   "metadata": {},
   "outputs": [],
   "source": [
    "#########################################################################\n",
    "# Author: Yiting Zhang\n",
    "# Created on: 11/03/2023\n",
    "# Description:\n",
    "#########################################################################\n",
    "# To Do:\n",
    "#\n",
    "#\n",
    "#\n",
    "#########################################################################"
   ]
  },
  {
   "cell_type": "code",
   "execution_count": 2,
   "id": "4b1ffbea",
   "metadata": {},
   "outputs": [
    {
     "name": "stdout",
     "output_type": "stream",
     "text": [
      "Collecting coverage\n",
      "  Downloading coverage-7.3.2-cp311-cp311-win_amd64.whl (203 kB)\n",
      "                                              0.0/203.3 kB ? eta -:--:--\n",
      "     -------                               41.0/203.3 kB 991.0 kB/s eta 0:00:01\n",
      "     ---------------------                  112.6/203.3 kB 1.6 MB/s eta 0:00:01\n",
      "     ------------------------------------   194.6/203.3 kB 1.5 MB/s eta 0:00:01\n",
      "     -------------------------------------- 203.3/203.3 kB 1.5 MB/s eta 0:00:00\n",
      "Installing collected packages: coverage\n",
      "Successfully installed coverage-7.3.2\n"
     ]
    }
   ],
   "source": [
    "# !pip3 install coverage\n",
    "\n",
    "# not work when connect to PNNL VPN"
   ]
  },
  {
   "cell_type": "code",
   "execution_count": 3,
   "id": "810f6cf9",
   "metadata": {},
   "outputs": [],
   "source": [
    "############################# Load Packages #############################\n",
    "import numpy\n",
    "import matplotlib\n",
    "import pandas\n",
    "import statistics\n",
    "import statsmodels\n",
    "import CoolProp\n",
    "import scipy\n",
    "import coverage\n",
    "import click\n",
    "import jsonschema"
   ]
  },
  {
   "cell_type": "code",
   "execution_count": null,
   "id": "ebcd1820",
   "metadata": {},
   "outputs": [],
   "source": [
    "############################## Explore Data #############################\n"
   ]
  }
 ],
 "metadata": {
  "kernelspec": {
   "display_name": "Python 3 (ipykernel)",
   "language": "python",
   "name": "python3"
  },
  "language_info": {
   "codemirror_mode": {
    "name": "ipython",
    "version": 3
   },
   "file_extension": ".py",
   "mimetype": "text/x-python",
   "name": "python",
   "nbconvert_exporter": "python",
   "pygments_lexer": "ipython3",
   "version": "3.11.3"
  }
 },
 "nbformat": 4,
 "nbformat_minor": 5
}
