{
 "cells": [
  {
   "cell_type": "code",
   "execution_count": null,
   "id": "a8d0953a",
   "metadata": {},
   "outputs": [],
   "source": [
    "##############################################################\n",
    "########################## Notes #############################\n",
    "# This file is to calculate the bypass factor.\n",
    "# Use formula here to calculate: EnergyPlus Enginnering Reference - Coils\n",
    "# https://bigladdersoftware.com/epx/docs/8-2/engineering-reference/coils.html\n",
    "# Is Useful to check the results: https://drajmarsh.bitbucket.io/psychro-chart2d.html"
   ]
  },
  {
   "cell_type": "code",
   "execution_count": 5,
   "id": "f69d1de9",
   "metadata": {},
   "outputs": [
    {
     "name": "stdout",
     "output_type": "stream",
     "text": [
      "Collecting CoolProp\n",
      "  Downloading CoolProp-6.5.0.post1-cp311-cp311-win_amd64.whl (2.0 MB)\n",
      "                                              0.0/2.0 MB ? eta -:--:--\n",
      "     ---                                      0.2/2.0 MB 5.3 MB/s eta 0:00:01\n",
      "     -----------------                        0.8/2.0 MB 10.6 MB/s eta 0:00:01\n",
      "     ------------------------------------     1.8/2.0 MB 19.1 MB/s eta 0:00:01\n",
      "     ---------------------------------------- 2.0/2.0 MB 13.8 MB/s eta 0:00:00\n",
      "Installing collected packages: CoolProp\n",
      "Successfully installed CoolProp-6.5.0.post1\n"
     ]
    }
   ],
   "source": [
    "# !pip3 install CoolProp\n",
    "\n",
    "# not work when connect to PNNL VPN"
   ]
  },
  {
   "cell_type": "code",
   "execution_count": 10,
   "id": "d6bb14ce-fa5d-4bf2-a7ff-4766560cafac",
   "metadata": {
    "execution": {
     "iopub.execute_input": "2023-10-06T00:21:25.675690Z",
     "iopub.status.busy": "2023-10-06T00:21:25.675074Z",
     "iopub.status.idle": "2023-10-06T00:21:25.684224Z",
     "shell.execute_reply": "2023-10-06T00:21:25.683174Z",
     "shell.execute_reply.started": "2023-10-06T00:21:25.675661Z"
    },
    "tags": []
   },
   "outputs": [
    {
     "name": "stdout",
     "output_type": "stream",
     "text": [
      "Leaving Evaporator Humidity Ratio: 0.01 kg/kg\n"
     ]
    }
   ],
   "source": [
    "# Yiting's scripts\n",
    "\n",
    "from scipy.optimize import fsolve\n",
    "import numpy as np\n",
    "\n",
    "\n",
    "\n",
    "def calculate_w_leaving(T_entering, w_entering, T_leaving, Q_total, st, m_dot, c_p, h_fg):\n",
    "    \n",
    "    # Difference between the total heat removal and the sum of sensible and latent heat.\n",
    "    def heat_balance(w_leaving):\n",
    "        Q_sensible = m_dot * c_p * (T_entering - T_leaving)\n",
    "        Q_latent = m_dot * w_entering * h_fg - m_dot * w_leaving * h_fg\n",
    "        return Q_total * st - Q_latent\n",
    "    \n",
    "    # Using fsolve to find T_leaving where the heat balance is zero\n",
    "    T_adp = fsolve(heat_balance, 0.082)[0]\n",
    "    \n",
    "    return T_adp\n",
    "\n",
    "\n",
    "# Example\n",
    "T_entering = 26.67    # Entering air dry bulb temperature in °C\n",
    "w_entering = 0.0112    # Entering air humidity ratio in kg/kg\n",
    "T_leaving = 9.93\n",
    "st = 0.66\n",
    "Q_total = 11488.3847155 / 39.2 * 41.7 / 1000   # Total heat removal in Watts\n",
    "m_dot = 1.19 * 4011.55 / 1000     # Air mass flow rate in kg/s\n",
    "c_p = 1.006           # Specific heat of air in kJ/kg.K\n",
    "h_fg = 2260        # Enthalpy of vaporization in kJ/kg\n",
    "\n",
    "adp = calculate_w_leaving(T_entering, w_entering, T_leaving, Q_total, st, m_dot, c_p, h_fg)\n",
    "print(f\"Leaving Evaporator Humidity Ratio: {adp:.2f} kg/kg\")\n",
    "\n",
    "## Make an initial estimate of the apparatus dew point temperature\n",
    "def pw2dp(w, P):\n",
    "    # Constants for the Magnus formula\n",
    "    l = 243.7\n",
    "    beta = 17.27\n",
    "    Pw0 = 611.2  # Saturation pressure of water vapor at 0°C in Pa\n",
    "\n",
    "    # Calculate the partial pressure of water vapor\n",
    "    Pw = (w * P) / (0.622 + w)\n",
    "    \n",
    "    # Use the Magnus formula to compute the dew point\n",
    "    # numerator = B * np.log(Pw/Pw0)\n",
    "    # denominator = A - np.log(Pw/Pw0)\n",
    "    # Td = numerator / denominator\n",
    "    num = 243.12 * np.log(Pw/Pw0)\n",
    "    den = 17.62 - np.log(Pw/Pw0)\n",
    "    Td = num / den\n",
    "    return Td\n",
    "\n",
    "\n",
    "## Equation 1\n",
    "def pdp2w(Td, P):\n",
    "    # Constants for the Magnus formula\n",
    "    A = 17.27\n",
    "    B = 237.7\n",
    "    Pw0 = 611.2  # Saturation pressure of water vapor at 0°C in Pa\n",
    "    # Calculate the saturation pressure at the dew point\n",
    "    Pws = Pw0 * np.exp((A * Td) / (B + Td))    \n",
    "    # The partial pressure of water vapor is equal to the saturation pressure at dew point\n",
    "    Pw = Pws    \n",
    "    # Calculate the humidity ratio\n",
    "    w = (0.622 * Pw) / (P - Pw)\n",
    "    return w\n",
    "\n",
    "\n",
    "## The “slope” of temperature versus humidity ratio on the psych chart \n",
    "## betweween the inlet and outlet air conditions\n",
    "def st_slope(T_in, T_out, w_in, w_out):\n",
    "    st = (T_in - T_out) / (w_in - w_out)\n",
    "    return st\n",
    "\n",
    "\n",
    "## Iterating\n",
    "def ADP(T_in, w_in, Tad0, st, epsilon = 0.01):\n",
    "    Pa = 101325\n",
    "    Tad = Tad0 # make an initial estimate of the apparatus dew point temperature\n",
    "    for i in range(1000):\n",
    "        ## Equation 2\n",
    "        w = pdp2w(Tad, Pa)\n",
    "        Tad_new = T_in - st*(w_in - w)\n",
    "        print(\"w,Tad_new\")\n",
    "        print(w,Tad_new)\n",
    "        if np.abs(Tad_new - Tad) <= epsilon:\n",
    "            return Tad_new, w\n",
    "        Tad = Tad_new\n",
    "    return None\n",
    "\n",
    "\n",
    "## The apparatus dewpoint enthalpy is then:\n",
    "def compute_enthalpy(T, w):\n",
    "    # Constants\n",
    "    cp = 1.006  # Specific heat of dry air at constant pressure (kJ/kg·°C)\n",
    "    hv = 2501   # Enthalpy of vaporization of water at 0°C (kJ/kg)\n",
    "    # Compute the enthalpy\n",
    "    h = cp * T + w * (hv + 1.86*T)\n",
    "    return h\n",
    "\n",
    "\n"
   ]
  },
  {
   "cell_type": "code",
   "execution_count": 11,
   "id": "3776ba4d-27e7-4914-80e6-828bb7b301a0",
   "metadata": {
    "execution": {
     "iopub.execute_input": "2023-10-06T00:21:27.285876Z",
     "iopub.status.busy": "2023-10-06T00:21:27.285560Z",
     "iopub.status.idle": "2023-10-06T00:21:27.292298Z",
     "shell.execute_reply": "2023-10-06T00:21:27.291629Z",
     "shell.execute_reply.started": "2023-10-06T00:21:27.285851Z"
    },
    "tags": []
   },
   "outputs": [
    {
     "name": "stdout",
     "output_type": "stream",
     "text": [
      "s/t: 13950.000000000005\n",
      "ADP init: 14.07662393598085 °C\n",
      "0.0100121148353774 10.099001953514726\n",
      "0.007678162341030634 -22.459635342622676\n",
      "0.0006195281186943684 -120.92758274421361\n",
      "6.41366223336722e-11 -129.5699991052942\n",
      "3.862246656436672e-12 -129.5699999461217\n",
      "ADP: (-129.5699999461217, 3.862246656436672e-12) °C\n",
      "0.0100121148353774 10.099001953514726\n",
      "0.007678162341030634 -22.459635342622676\n",
      "0.0006195281186943684 -120.92758274421361\n",
      "6.41366223336722e-11 -129.5699991052942\n",
      "3.862246656436672e-12 -129.5699999461217\n",
      "BF: 0.8928571428201955\n"
     ]
    }
   ],
   "source": [
    "# Yiting's Test\n",
    "\n",
    "T_in = 26.67\n",
    "w_in = 0.0112\n",
    "T_out = 9.93\n",
    "w_out = 0.01\n",
    "Pa = 101325\n",
    "st = st_slope(T_in, T_out, w_in, w_out)\n",
    "print(\"s/t:\", st)\n",
    "Tad0 = pw2dp(w_out, Pa)  # Initial guess of ADP\n",
    "print(\"ADP init:\", Tad0, \"°C\")\n",
    "print(\"ADP:\", ADP(T_in, w_in, Tad0, st), \"°C\")\n",
    "T_adp, w_adp = ADP(T_in, w_in, Tad0, st)\n",
    "h_adp = compute_enthalpy(T_adp, w_adp)\n",
    "h_in = compute_enthalpy(T_in, w_in)\n",
    "h_out = compute_enthalpy(T_out, w_out)\n",
    "\n",
    "\n",
    "## The coil bypass factor is:\n",
    "BF = (h_out - h_adp) / (h_in - h_adp)\n",
    "print(\"BF:\", BF)\n"
   ]
  },
  {
   "cell_type": "code",
   "execution_count": 18,
   "id": "f9618254-aea4-4886-9f68-d5c54e7f6b4a",
   "metadata": {
    "execution": {
     "iopub.execute_input": "2023-10-06T00:21:26.418881Z",
     "iopub.status.busy": "2023-10-06T00:21:26.418509Z",
     "iopub.status.idle": "2023-10-06T00:21:26.430330Z",
     "shell.execute_reply": "2023-10-06T00:21:26.429572Z",
     "shell.execute_reply.started": "2023-10-06T00:21:26.418852Z"
    },
    "tags": []
   },
   "outputs": [
    {
     "name": "stdout",
     "output_type": "stream",
     "text": [
      "T_adp: 14.18\n",
      "BF_byT: -0.13378684807256233\n",
      "BF_byH: -0.12100054366688948\n",
      "0.017707267627385063 0.009324906442953121\n"
     ]
    }
   ],
   "source": [
    "## Jeremy's scripts\n",
    "\n",
    "from CoolProp.HumidAirProp import HAPropsSI\n",
    "\n",
    "def find_apparatus_dew_point(w_in, w_out, t_in, t_out):\n",
    "    # slpoe\n",
    "    a = (w_out - w_in) / (t_out - t_in)\n",
    "    # w_x = a * t_x + b\n",
    "    b = w_in - a * t_in\n",
    "    t_adp = t_out # Equation 2\n",
    "    incr = 0.001\n",
    "    t_x = t_out + incr\n",
    "    \n",
    "    found = True\n",
    "    while found:\n",
    "        t_x += incr\n",
    "        w_x = a * t_x + b\n",
    "        t_adp = HAPropsSI('D','T',t_x + 273.15,'P',101325,'W', w_x) - 273.15\n",
    "        if abs(t_adp - t_x) < 0.001:\n",
    "            break\n",
    "        incr = (t_adp - t_x) / 10\n",
    "    return t_adp\n",
    "\n",
    "## Test on this:\n",
    "w_in, w_out, T_in, T_out = 0.01112, 0.01, 23, 13\n",
    "T_adp = round(find_apparatus_dew_point(w_in, w_out, T_in, T_out), 2)\n",
    "print(\"T_adp:\", T_adp)\n",
    "\n",
    "Pa = 101325\n",
    "W_in = pdp2w(T_in, Pa)\n",
    "W_out = pdp2w(T_out, Pa)\n",
    "w_adp = pdp2w(T_adp, Pa)\n",
    "h_adp = compute_enthalpy(T_adp, w_adp)\n",
    "h_in = compute_enthalpy(T_in, w_in)\n",
    "h_out = compute_enthalpy(T_out, w_out)\n",
    "BF_byT = (T_out - T_adp) / (T_in - T_adp)\n",
    "BF_byH = (h_out - h_adp) / (h_in - h_adp)\n",
    "print(\"BF_byT:\", BF_byT)\n",
    "print(\"BF_byH:\", BF_byH)\n",
    "print(W_in,W_out)"
   ]
  },
  {
   "cell_type": "code",
   "execution_count": null,
   "id": "17d0b9e3-a1ed-4368-9e00-ecf26aa6680c",
   "metadata": {},
   "outputs": [],
   "source": [
    "## revised script\n",
    "\n",
    "def bypass_factor(w_in, w_out, t_in, t_out):\n",
    "    # slpoe\n",
    "    a = (w_out - w_in) / (t_out - t_in)\n",
    "    # w_x = a * t_x + b\n",
    "    b = w_in - a * t_in\n",
    "    t_adp = t_out # Equation 2\n",
    "    incr = 0.001\n",
    "    t_x = t_out + incr\n",
    "    \n",
    "    found = True\n",
    "    while found:\n",
    "        t_x += incr\n",
    "        w_x = a * t_x + b\n",
    "        t_adp = HAPropsSI('D','T',t_x + 273.15,'P',101325,'W', w_x) - 273.15\n",
    "        if abs(t_adp - t_x) < 0.001:\n",
    "            break\n",
    "        incr = (t_adp - t_x) / 10\n",
    "    return t_adp"
   ]
  },
  {
   "cell_type": "code",
   "execution_count": 17,
   "id": "35afc5b7",
   "metadata": {},
   "outputs": [
    {
     "name": "stdout",
     "output_type": "stream",
     "text": [
      "Humidity Ratio: 0.186463\n"
     ]
    }
   ],
   "source": [
    "import math\n",
    "\n",
    "def calculate_w(tdb, twb): # humidity_ratio\n",
    "    vapor_pressure = 6.112 * math.exp((17.67 * twb) / (twb + 243.5))\n",
    "    humidity_ratio = 0.622 * (vapor_pressure / (101.325 - vapor_pressure))\n",
    "    return humidity_ratio\n",
    "\n",
    "def calculate_tldb(tedb, sc, cfm):\n",
    "    tldb = tedb - sc / (1.1 * cfm)\n",
    "    return tldb\n",
    "\n",
    "def calculate_hlwb(hewb, tc, cfm):\n",
    "    hlwb = hewb - tc / (4.5 * cfm)\n",
    "    return hlwb\n",
    "    \n",
    "def compute_h(T, w):\n",
    "    cp = 1.006  # Specific heat of dry air at constant pressure (kJ/kg·°C)\n",
    "    hv = 2501   # Enthalpy of vaporization of water at 0°C (kJ/kg)\n",
    "    h = cp * T + w * (hv + 1.86*T)\n",
    "    return h\n",
    "\n",
    "def compute_bf_T(tldb,tedb,tadp):\n",
    "    BF_byT = (tldb - tadp) / (tedb - tadp)\n",
    "    return BF_byT\n",
    "\n",
    "def compute_bf_H(h_out,h_in,h_adp):\n",
    "    BF_byH = (h_out - h_adp) / (h_in - h_adp)\n",
    "    return BF_byH\n",
    "\n",
    "\n"
   ]
  },
  {
   "cell_type": "code",
   "execution_count": null,
   "id": "3b77e7ea",
   "metadata": {},
   "outputs": [],
   "source": [
    "# Example usage\n",
    "\n",
    "dry_bulb_temperature = 25.0  # in degrees Celsius, 77F\n",
    "wet_bulb_temperature = 20.0  # in degrees Celsius, 68F\n",
    "\n",
    "humidity_ratio = calculate_w(dry_bulb_temperature, wet_bulb_temperature)\n",
    "print(f'Humidity Ratio: {humidity_ratio:.6f}')"
   ]
  }
 ],
 "metadata": {
  "kernelspec": {
   "display_name": "Python 3 (ipykernel)",
   "language": "python",
   "name": "python3"
  },
  "language_info": {
   "codemirror_mode": {
    "name": "ipython",
    "version": 3
   },
   "file_extension": ".py",
   "mimetype": "text/x-python",
   "name": "python",
   "nbconvert_exporter": "python",
   "pygments_lexer": "ipython3",
   "version": "3.11.3"
  }
 },
 "nbformat": 4,
 "nbformat_minor": 5
}
